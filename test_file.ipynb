{
 "cells": [
  {
   "cell_type": "markdown",
   "metadata": {},
   "source": [
    "## This file is created to test the app"
   ]
  },
  {
   "cell_type": "code",
   "execution_count": 1,
   "metadata": {},
   "outputs": [],
   "source": [
    "import requests"
   ]
  },
  {
   "cell_type": "code",
   "execution_count": 2,
   "metadata": {},
   "outputs": [
    {
     "data": {
      "text/plain": [
       "{'Diabeties': True, 'probability': 0.6818580627441406}"
      ]
     },
     "execution_count": 2,
     "metadata": {},
     "output_type": "execute_result"
    }
   ],
   "source": [
    "user = {\"polyuria\": 0, \"polydipsia\": 1, \"sudden_weight_loss\": 0,\n",
    "            \"partial_paresis\":1,\"polyphagia\":0,\"irritability\":1,\"visual_blurring\":0,\n",
    "           \"weakness\":1,\"muscle_stiffness\":1,\"genital_thrush\":0,\"age\":45,\"obesity\":1,\"delayed_healing\":0\n",
    "            ,\"alopecia\":1,\"itching\":1}\n",
    "\n",
    "url = 'https://diabetes-prediction-server.herokuapp.com/predict'\n",
    "## request the web server\n",
    "response = requests.post(url, json=user)\n",
    "\n",
    "result = response.json()\n",
    "\n",
    "result"
   ]
  }
 ],
 "metadata": {
  "kernelspec": {
   "display_name": "Python 3",
   "language": "python",
   "name": "python3"
  },
  "language_info": {
   "codemirror_mode": {
    "name": "ipython",
    "version": 3
   },
   "file_extension": ".py",
   "mimetype": "text/x-python",
   "name": "python",
   "nbconvert_exporter": "python",
   "pygments_lexer": "ipython3",
   "version": "3.8.6"
  }
 },
 "nbformat": 4,
 "nbformat_minor": 4
}
